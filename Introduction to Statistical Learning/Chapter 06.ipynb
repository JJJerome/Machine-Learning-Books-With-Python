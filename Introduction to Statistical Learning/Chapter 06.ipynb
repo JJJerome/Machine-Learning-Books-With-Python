{
 "cells": [
  {
   "cell_type": "markdown",
   "metadata": {},
   "source": [
    "# Introduction to Statistical Learning \n",
    "Introduction to Statistical Learning by Gareth James, Daniela Witten, Trevor Hastie and Robert Tibshirani is considered a canonical text in the field of statistical/machine learning and is an absolutely fantastic way to move forward in your analytics career. [The text is free to download](http://www-bcf.usc.edu/~gareth/ISL/) and an [online course by the authors themselves](https://lagunita.stanford.edu/courses/HumanitiesSciences/StatLearning/Winter2016/about) is currently available in self-pace mode, meaning you can complete it any time. Make sure to **[REGISTER FOR THE STANDFORD COURSE!](https://lagunita.stanford.edu/courses/HumanitiesSciences/StatLearning/Winter2016/about)** The videos have also been [archived here on youtube](http://www.r-bloggers.com/in-depth-introduction-to-machine-learning-in-15-hours-of-expert-videos/)."
   ]
  },
  {
   "cell_type": "code",
   "execution_count": 1,
   "metadata": {},
   "outputs": [
    {
     "name": "stderr",
     "output_type": "stream",
     "text": [
      "'ls' is not recognized as an internal or external command,\n",
      "operable program or batch file.\n"
     ]
    }
   ],
   "source": [
    "!ls data"
   ]
  },
  {
   "cell_type": "markdown",
   "metadata": {},
   "source": [
    "# Chapter 6 Linear Model Selection and Regularization\n",
    "Linear models still can do astonishingly well compared to non-linear models. This chapter will explore other types of fitting besides least squares because they can give better prediction accuracy and interpretability.\n",
    "\n",
    "## Classes of alternatives to least squares\n",
    "* Subset Selection - Choose a subset of the predictors\n",
    "* Shrinkage (regularization) - Fit all predictors but limit their size. Coefficients can go to 0.\n",
    "* Dimension Reduction - project the predictors into a smaller subspace\n",
    "\n",
    "## Best Subset Selection\n",
    "Fit all possible models $2^p$ and take the one with highest adjusted $R^2$ through cross validation. This can be impossible with large enough p\n",
    "\n",
    "## Stepwise Selection - Forward, Backward and both\n",
    "Because of computational limitation a simpler method of adding or subtracting the best predictor to the current model is employed.\n",
    "\n",
    "### Forward Selection\n",
    "Start with an empty model and choose on predictor to add to the model based on best adjusted $R^2$ or other similar metric. Continue adding variables until no improvement in adjusted $R^2$. \n",
    "\n",
    "A variation to this is to retain each model at each step and use $R^2$ (not adjusted) as the metric. This will build p models. Then use cross validation with $R^2$ to pick the best model of those p models built from forward selection.\n",
    "\n",
    "### Backward Selection\n",
    "Similar to forward selection but start with all predictors in model and remove one at a time until adjusted $R^2$ is maximized or alternatively, find p models with $R^2$ and then use cross validation to pick best of the p models.\n",
    "\n",
    "## Both\n",
    "At each step, consider both adding or subtracting a variable in the model."
   ]
  },
  {
   "cell_type": "markdown",
   "metadata": {},
   "source": [
    "# Choosing Optimal Model \n",
    "## Adjusting Training Statistics or Using Cross Validation\n",
    "As learned in Chapter 5, cross validation is an extremely good tool at giving us insight to how well the model will be used on unseen data (test data).\n",
    "\n",
    "But alternatively to cross validation, we can punish the training error statistics so in theory they can give us insight on what the test error will be. There have been several statistics developed to give us insight as to what the model will do for unseen errors.\n",
    "\n",
    "The 4 most popular are AIC, BIC, Mallows Cp and Adjusted R^2. AIC, BIC and Cp all have similar formulas that inflate the error for more predictors and a higher estimated variance. Adjusted R squared lowers the R^2 by each additional predictor in the model. All 4 of these statistics are 'classical' model selectors and were used (I believe) before cross validation and so relied on just fitting the data one time on ALL the data. \n",
    "\n",
    "Cross validation can be computationally intense but with modern computation we can build lots of models and evaluate them easily."
   ]
  },
  {
   "cell_type": "markdown",
   "metadata": {},
   "source": [
    "## Shrinkage Methods\n",
    "Ridge and Lasso regression are most common.\n",
    "### Ridge Regression\n",
    "Minimizes not only the squared error (RSS) but sum of predictors squared times a constant $\\lambda$. When $\\lambda$ is 0 then ridge equals least squares. when $\\lambda$ heads to infinity, all predictors head to 0.\n",
    "\n",
    "Since ridge regression works directly with the size of the parameter coefficients, you must scale all predictors by dividing by their standard deviation.\n",
    "### The Lasso\n",
    "Uses L1 penalty instead of L2 (absolute value of predictors vs squared value). The lasso performs variable selection by setting some predictors to exactly 0 (and thus automatic variable selection), unlike ridge which will never completely do eliminate variables. \n",
    "\n",
    "### Alternative logic of lasso and ridge regression\n",
    "Instead of thinking of penalizing the error by either the L1 or L2 norm. We can think of setting up lasso/ridge regression as minimizing the squared errors subject to keeping the parameters less than a certain value. Think of this value as a 'budget' of allowable spending to occur. You can allow yourself to spend your parameters in any way you chose as long as you don't go over the total budget.\n",
    "\n",
    "Lasso yields predictors equivalent to 0 because of sharp corners"
   ]
  },
  {
   "cell_type": "markdown",
   "metadata": {},
   "source": [
    "![ridge and lasso](images/ridge.png)"
   ]
  },
  {
   "cell_type": "markdown",
   "metadata": {},
   "source": [
    "### Which is better Lasso or Ridge\n",
    "No way to tell beforehand but in general, settings where there are many import predictor variables that related to the response ridge will perform better. When there are only a few variables that relate to the response, lasso will do better.\n",
    "\n",
    "But... as always cross validation can be used\n",
    "\n",
    "### Choosing $\\lambda$\n",
    "Choose $\\lambda$ through cross validation. Search an array of $\\lambda$'s through cross validation and choose the $\\lambda$ which minimizes MSE. Then build your model with that $\\lambda$ on all the data."
   ]
  },
  {
   "cell_type": "markdown",
   "metadata": {},
   "source": [
    "# Dimension Reduction Techniques\n",
    "Instead of using the original predictors, we transform them first and then fit our models. Usually transform variables so that there are less in number than the original set. Two approaches in book - principal components and partial least squares"
   ]
  },
  {
   "cell_type": "markdown",
   "metadata": {},
   "source": [
    "# Principal Component Analysis (PCA)\n",
    "The first principal component is the direction where observations vary the most. We want to capture as much information as we can in one single direction. Which single direction captures as much information as possible? The direction where the variance is highest amongst the projected points.\n",
    "\n",
    "The first principal component also minimizes the sum of squared perpendicular distances between point and line. Each transformed first principal component can be thought as single number summaries of all that particular observation.\n",
    "\n",
    "The second principal component must be uncorrelated to the first which makes it orthogonal (90 degrees in two dimensions) to the first. The second PC will capture less information (less spread). Plotting each PC against each variable can show how much information is captured by each one.\n",
    "\n",
    "\n",
    "## Principal Component Regression\n",
    "First find first M principal components where M < p then fit with least squares. Choose M with cross validation. Usually, data is standardized by standard deviation first.\n",
    "\n",
    "## Partial Least Squares\n",
    "The response does not determine the principal components. This means PCA is used in an unsupervised way. PLS is a supervised alternative to PCR. PLS generates new features as a linear combination of the old features and the response\n",
    "\n",
    "Computed by doing simple linear regression of Y onto each predictor and setting that coefficient to the linear combination coefficient for transformed variable Z1. So weights are higher for those variables with stronger relationships to response. Z2 is computed by regressing all variables against the residuals of Z1 being fit to the model. Do this iteratively (fit remaining residuals) to come up with M PLS components. Then do least squares fit on all M new dimensions. In practice PLS does not do better than PCR or ridge regression.\n",
    "\n",
    "# High Dimensional Data\n",
    "When speaking of high dimensional data, we generally mean data with many predictors, especially when p approaches or exceeds n. Generally it is better to have more predictors but if many of the predictors are not associated with the response then they can cause the actual signal to get diluted - a double edged sword these predictors."
   ]
  },
  {
   "cell_type": "markdown",
   "metadata": {},
   "source": [
    "# Exercises\n",
    "## 1\n",
    "a) best subset  \n",
    "b) unknown  \n",
    "c) i) true  \n",
    "ii) false   \n",
    "iii) false \n",
    "iv) false  \n",
    "v) false  \n",
    "\n",
    "## 2\n",
    "a) iii  \n",
    "b) iii  \n",
    "c) ii  \n",
    "\n",
    "## 3\n",
    "a) iv steadily decrease to 0 (not to zero)  \n",
    "b) ii decrease then increase  \n",
    "c) iii steadily increase  \n",
    "d) iv steadily decrease  \n",
    "e) v constant  \n",
    "\n",
    "## 4\n",
    "a) iii steadily increase    \n",
    "b) ii decrease then increase  \n",
    "c) iv steadily decrease  \n",
    "d) iii steadily increase  \n",
    "e) v constant  \n",
    "\n",
    "## 5\n",
    "To simplify things lets assume that $x_{11}$ = 1, which makes $x_{12}$ = 1 and $x_{21}$ and $x_{22}$ = -1\n",
    "\n",
    "So, we have two points (1, 1, 0) and (-1, -1, 0)\n",
    "\n",
    "$Ridge = (0 - (\\beta_1 + \\beta_2))^2 + (0 - (-\\beta_1 - \\beta_2))^2 + \\lambda(\\beta_1^2 + \\beta_2^2)$ \n",
    "\n",
    "$Ridge = 2\\beta_1^2 + 4\\beta_1\\beta_2 +  2\\beta_2^2 + \\lambda(\\beta_1^2 + \\beta_2^2)$  \n",
    "\n",
    "Take derivative with respect to $\\beta_1$\n",
    "\n",
    "$0 = 4\\beta_1 + 4\\beta_2 + 2\\lambda\\beta_1$ \n",
    "\n",
    "Taking the derivate with respect to $\\beta_2$  \n",
    "$0 = 4\\beta_2 + 4\\beta_1 + 2\\lambda\\beta_2$  \n",
    "\n",
    "Setting them equal to each other we get that $\\beta_1 = \\beta_2$\n",
    "\n",
    "#### Now for lasso\n",
    "This answer below is likely wrong from what I've seen online but here is my solution regardless  \n",
    "$lasso = 2\\beta_1^2 + 4\\beta_1\\beta_2 +  2\\beta_2^2 + \\lambda(|\\beta_1| + |\\beta_2|)$\n",
    "\n",
    "Take derivative with respect to $\\beta_1$\n",
    "\n",
    "For $\\beta_1$ greater than 0  \n",
    "$0 = 4\\beta_1 + 4\\beta_2 + \\lambda$\n",
    "\n",
    "For $\\beta_1$ less than 0  \n",
    "$0 = 4\\beta_1 + 4\\beta_2 -\\lambda$\n",
    "\n",
    "Since this is symmetrical, the derivative will be the same for $\\beta_2$. We can form 2 combinations of equations to set equal to each other. \n",
    "\n",
    "The case when the $\\beta's$ have the same sign and when the don't. When they have the same sign, everything will cancel and we are left with 0 = 0 usually meaning an infinite number of solutions but since $\\lambda$ must be >=0 this is impossible.\n",
    "\n",
    "If we look at the case when the $\\beta's$ have a different sign then we see that this can happen only when $\\lambda = 0$ and then $\\beta_1 = -\\beta_2$\n",
    "\n",
    "\n",
    "## 6a\n",
    "$(y_1 - \\beta_1)^2 + \\lambda\\beta_1^2$\n",
    "\n",
    "Problem allows me to choose $y_1$ and $\\lambda$. I'll choose $y_1 = 5$ and $\\lambda = 3$"
   ]
  },
  {
   "cell_type": "code",
   "execution_count": 2,
   "metadata": {},
   "outputs": [],
   "source": [
    "# plot this as a function of beta\n",
    "#(5 - beta)^2 + 3beta^2\n",
    "import numpy as np\n",
    "beta = np.linspace(-10, 10, 1000)\n",
    "y = 5\n",
    "lam = 3\n",
    "ridge = (y - beta)**2 + lam * beta**2"
   ]
  },
  {
   "cell_type": "code",
   "execution_count": 3,
   "metadata": {},
   "outputs": [],
   "source": [
    "import matplotlib.pyplot as plt\n",
    "%matplotlib inline"
   ]
  },
  {
   "cell_type": "code",
   "execution_count": 4,
   "metadata": {},
   "outputs": [
    {
     "data": {
      "text/plain": [
       "[<matplotlib.lines.Line2D at 0x1787d988608>]"
      ]
     },
     "execution_count": 4,
     "metadata": {},
     "output_type": "execute_result"
    },
    {
     "data": {
      "image/png": "[encoded data removed]",
      "text/plain": [
       "<Figure size 432x288 with 1 Axes>"
      ]
     },
     "metadata": {
      "needs_background": "light"
     },
     "output_type": "display_data"
    }
   ],
   "source": [
    "plt.plot(beta, ridge)"
   ]
  },
  {
   "cell_type": "code",
   "execution_count": 5,
   "metadata": {},
   "outputs": [
    {
     "data": {
      "text/plain": [
       "1.2512512512512508"
      ]
     },
     "execution_count": 5,
     "metadata": {},
     "output_type": "execute_result"
    }
   ],
   "source": [
    "# min from plot\n",
    "beta[np.argmin(ridge)]"
   ]
  },
  {
   "cell_type": "code",
   "execution_count": 6,
   "metadata": {},
   "outputs": [
    {
     "data": {
      "text/plain": [
       "1.25"
      ]
     },
     "execution_count": 6,
     "metadata": {},
     "output_type": "execute_result"
    }
   ],
   "source": [
    "# min from 6.14\n",
    "y / (1 + lam) # confirmed!"
   ]
  },
  {
   "cell_type": "markdown",
   "metadata": {},
   "source": [
    "# 6b\n",
    "do similar thing for lasso"
   ]
  },
  {
   "cell_type": "code",
   "execution_count": 7,
   "metadata": {},
   "outputs": [
    {
     "data": {
      "text/plain": [
       "[<matplotlib.lines.Line2D at 0x1787da4ff88>]"
      ]
     },
     "execution_count": 7,
     "metadata": {},
     "output_type": "execute_result"
    },
    {
     "data": {
      "image/png": "[encoded data removed]",
      "text/plain": [
       "<Figure size 432x288 with 1 Axes>"
      ]
     },
     "metadata": {
      "needs_background": "light"
     },
     "output_type": "display_data"
    }
   ],
   "source": [
    "beta = np.linspace(-10, 10, 1000)\n",
    "y = 5\n",
    "lam = 3\n",
    "lasso = (y - beta)**2 + lam * abs(beta)\n",
    "plt.plot(beta, lasso)"
   ]
  },
  {
   "cell_type": "code",
   "execution_count": 8,
   "metadata": {},
   "outputs": [
    {
     "data": {
      "text/plain": [
       "3.493493493493494"
      ]
     },
     "execution_count": 8,
     "metadata": {},
     "output_type": "execute_result"
    }
   ],
   "source": [
    "beta[np.argmin(lasso)]"
   ]
  },
  {
   "cell_type": "code",
   "execution_count": 9,
   "metadata": {},
   "outputs": [
    {
     "data": {
      "text/plain": [
       "3.5"
      ]
     },
     "execution_count": 9,
     "metadata": {},
     "output_type": "execute_result"
    }
   ],
   "source": [
    "# min from 6.15\n",
    "# since y > lambda / 2 minimum should be at y - lambda / 2\n",
    "y - lam / 2 # confirmed!"
   ]
  },
  {
   "cell_type": "markdown",
   "metadata": {},
   "source": [
    "# 7\n",
    "nope"
   ]
  },
  {
   "cell_type": "markdown",
   "metadata": {},
   "source": [
    "# 8"
   ]
  },
  {
   "cell_type": "code",
   "execution_count": 10,
   "metadata": {},
   "outputs": [],
   "source": [
    "x = np.random.randn(100)\n",
    "err = np.random.randn(100)"
   ]
  },
  {
   "cell_type": "code",
   "execution_count": 11,
   "metadata": {},
   "outputs": [],
   "source": [
    "beta0, beta1, beta2, beta3 = -5, 1, 4, 3\n",
    "y = beta0 + beta1 * x + beta2 * x ** 2 + beta3 * x ** 3 + err"
   ]
  },
  {
   "cell_type": "code",
   "execution_count": 12,
   "metadata": {},
   "outputs": [],
   "source": [
    "import pandas as pd\n",
    "from sklearn.linear_model import LinearRegression\n",
    "from itertools import combinations"
   ]
  },
  {
   "cell_type": "code",
   "execution_count": 13,
   "metadata": {},
   "outputs": [],
   "source": [
    "from collections import OrderedDict"
   ]
  },
  {
   "cell_type": "code",
   "execution_count": 14,
   "metadata": {},
   "outputs": [
    {
     "data": {
      "text/plain": [
       "OrderedDict([('b', 1), ('a', 534)])"
      ]
     },
     "execution_count": 14,
     "metadata": {},
     "output_type": "execute_result"
    }
   ],
   "source": [
    "OrderedDict({'b': 1, 'a':534})"
   ]
  },
  {
   "cell_type": "code",
   "execution_count": 15,
   "metadata": {},
   "outputs": [],
   "source": [
    "df = pd.DataFrame({'x1': x, 'x2': x ** 2, 'x3': x**3, 'x4': x**4,'x5': x**5,\n",
    "                   'x6': x**6,'x7': x**7,'x8': x**8,'x9': x**9,'x10': x**10,\n",
    "                   'y':y})"
   ]
  },
  {
   "cell_type": "code",
   "execution_count": 16,
   "metadata": {},
   "outputs": [
    {
     "data": {
      "text/html": [
       "<div>\n",
       "<style scoped>\n",
       "    .dataframe tbody tr th:only-of-type {\n",
       "        vertical-align: middle;\n",
       "    }\n",
       "\n",
       "    .dataframe tbody tr th {\n",
       "        vertical-align: top;\n",
       "    }\n",
       "\n",
       "    .dataframe thead th {\n",
       "        text-align: right;\n",
       "    }\n",
       "</style>\n",
       "<table border=\"1\" class=\"dataframe\">\n",
       "  <thead>\n",
       "    <tr style=\"text-align: right;\">\n",
       "      <th></th>\n",
       "      <th>x1</th>\n",
       "      <th>x2</th>\n",
       "      <th>x3</th>\n",
       "      <th>x4</th>\n",
       "      <th>x5</th>\n",
       "      <th>x6</th>\n",
       "      <th>x7</th>\n",
       "      <th>x8</th>\n",
       "      <th>x9</th>\n",
       "      <th>x10</th>\n",
       "      <th>y</th>\n",
       "    </tr>\n",
       "  </thead>\n",
       "  <tbody>\n",
       "    <tr>\n",
       "      <th>0</th>\n",
       "      <td>-0.162013</td>\n",
       "      <td>0.026248</td>\n",
       "      <td>-0.004253</td>\n",
       "      <td>0.000689</td>\n",
       "      <td>-1.116216e-04</td>\n",
       "      <td>1.808414e-05</td>\n",
       "      <td>-2.929865e-06</td>\n",
       "      <td>4.746760e-07</td>\n",
       "      <td>-7.690364e-08</td>\n",
       "      <td>1.245938e-08</td>\n",
       "      <td>-5.940113</td>\n",
       "    </tr>\n",
       "    <tr>\n",
       "      <th>1</th>\n",
       "      <td>0.439458</td>\n",
       "      <td>0.193123</td>\n",
       "      <td>0.084870</td>\n",
       "      <td>0.037297</td>\n",
       "      <td>1.639033e-02</td>\n",
       "      <td>7.202863e-03</td>\n",
       "      <td>3.165357e-03</td>\n",
       "      <td>1.391042e-03</td>\n",
       "      <td>6.113047e-04</td>\n",
       "      <td>2.686428e-04</td>\n",
       "      <td>-3.844704</td>\n",
       "    </tr>\n",
       "    <tr>\n",
       "      <th>2</th>\n",
       "      <td>-0.052779</td>\n",
       "      <td>0.002786</td>\n",
       "      <td>-0.000147</td>\n",
       "      <td>0.000008</td>\n",
       "      <td>-4.095491e-07</td>\n",
       "      <td>2.161559e-08</td>\n",
       "      <td>-1.140850e-09</td>\n",
       "      <td>6.021290e-11</td>\n",
       "      <td>-3.177977e-12</td>\n",
       "      <td>1.677305e-13</td>\n",
       "      <td>-5.681904</td>\n",
       "    </tr>\n",
       "    <tr>\n",
       "      <th>3</th>\n",
       "      <td>2.114899</td>\n",
       "      <td>4.472800</td>\n",
       "      <td>9.459522</td>\n",
       "      <td>20.005937</td>\n",
       "      <td>4.231054e+01</td>\n",
       "      <td>8.948255e+01</td>\n",
       "      <td>1.892466e+02</td>\n",
       "      <td>4.002375e+02</td>\n",
       "      <td>8.464621e+02</td>\n",
       "      <td>1.790182e+03</td>\n",
       "      <td>42.824499</td>\n",
       "    </tr>\n",
       "    <tr>\n",
       "      <th>4</th>\n",
       "      <td>-0.795095</td>\n",
       "      <td>0.632176</td>\n",
       "      <td>-0.502640</td>\n",
       "      <td>0.399647</td>\n",
       "      <td>-3.177574e-01</td>\n",
       "      <td>2.526474e-01</td>\n",
       "      <td>-2.008787e-01</td>\n",
       "      <td>1.597177e-01</td>\n",
       "      <td>-1.269908e-01</td>\n",
       "      <td>1.009698e-01</td>\n",
       "      <td>-7.110126</td>\n",
       "    </tr>\n",
       "  </tbody>\n",
       "</table>\n",
       "</div>"
      ],
      "text/plain": [
       "         x1        x2        x3         x4            x5            x6  \\\n",
       "0 -0.162013  0.026248 -0.004253   0.000689 -1.116216e-04  1.808414e-05   \n",
       "1  0.439458  0.193123  0.084870   0.037297  1.639033e-02  7.202863e-03   \n",
       "2 -0.052779  0.002786 -0.000147   0.000008 -4.095491e-07  2.161559e-08   \n",
       "3  2.114899  4.472800  9.459522  20.005937  4.231054e+01  8.948255e+01   \n",
       "4 -0.795095  0.632176 -0.502640   0.399647 -3.177574e-01  2.526474e-01   \n",
       "\n",
       "             x7            x8            x9           x10          y  \n",
       "0 -2.929865e-06  4.746760e-07 -7.690364e-08  1.245938e-08  -5.940113  \n",
       "1  3.165357e-03  1.391042e-03  6.113047e-04  2.686428e-04  -3.844704  \n",
       "2 -1.140850e-09  6.021290e-11 -3.177977e-12  1.677305e-13  -5.681904  \n",
       "3  1.892466e+02  4.002375e+02  8.464621e+02  1.790182e+03  42.824499  \n",
       "4 -2.008787e-01  1.597177e-01 -1.269908e-01  1.009698e-01  -7.110126  "
      ]
     },
     "execution_count": 16,
     "metadata": {},
     "output_type": "execute_result"
    }
   ],
   "source": [
    "df.head()"
   ]
  },
  {
   "cell_type": "code",
   "execution_count": 17,
   "metadata": {},
   "outputs": [],
   "source": [
    "lr = LinearRegression()"
   ]
  },
  {
   "cell_type": "code",
   "execution_count": 18,
   "metadata": {},
   "outputs": [],
   "source": [
    "X = df.iloc[:, :-1]\n",
    "y = df['y']"
   ]
  },
  {
   "cell_type": "code",
   "execution_count": 19,
   "metadata": {},
   "outputs": [
    {
     "data": {
      "text/plain": [
       "LinearRegression()"
      ]
     },
     "execution_count": 19,
     "metadata": {},
     "output_type": "execute_result"
    }
   ],
   "source": [
    "lr.fit(X, y)"
   ]
  },
  {
   "cell_type": "code",
   "execution_count": 20,
   "metadata": {},
   "outputs": [],
   "source": [
    "sigma2 = np.sum((lr.predict(X) - y) ** 2) / len(X)"
   ]
  },
  {
   "cell_type": "code",
   "execution_count": 21,
   "metadata": {},
   "outputs": [],
   "source": [
    "# best subset selection\n",
    "n = len(X)\n",
    "cp = []\n",
    "bic = []\n",
    "adj_r2 = []\n",
    "for i in range(1, 11):\n",
    "    current_cp = []\n",
    "    current_bic = []\n",
    "    current_adj_r2 = []\n",
    "    for comb in combinations(range(10), i):\n",
    "        X = df.iloc[:, list(comb)]\n",
    "        lr.fit(X, y)\n",
    "        rss = np.sum((lr.predict(X) - y) ** 2)\n",
    "        tss = np.sum((y - y.mean()) ** 2)\n",
    "        d = len(comb)\n",
    "        current_cp.append(1/n * (rss + 2 * d * sigma2))\n",
    "        current_bic.append(1/n * (rss + np.log(n) * d * sigma2))\n",
    "        current_adj_r2.append(1 - rss / (n - d - 1) * (n - 1) / tss)\n",
    "        \n",
    "    cp.append(min(current_cp))\n",
    "    bic.append(min(current_bic))\n",
    "    adj_r2.append(max(current_adj_r2))"
   ]
  },
  {
   "cell_type": "code",
   "execution_count": 22,
   "metadata": {},
   "outputs": [
    {
     "data": {
      "image/png": "[encoded data removed]",
      "text/plain": [
       "<Figure size 720x576 with 1 Axes>"
      ]
     },
     "metadata": {
      "needs_background": "light"
     },
     "output_type": "display_data"
    }
   ],
   "source": [
    "plt.figure(figsize=(10,8))\n",
    "plt.plot(range(1, 11), cp)\n",
    "plt.plot(range(1, 11), bic)\n",
    "plt.title(\"CP and BIC Best subset\");"
   ]
  },
  {
   "cell_type": "code",
   "execution_count": 23,
   "metadata": {},
   "outputs": [
    {
     "data": {
      "image/png": "[encoded data removed]",
      "text/plain": [
       "<Figure size 720x576 with 1 Axes>"
      ]
     },
     "metadata": {
      "needs_background": "light"
     },
     "output_type": "display_data"
    }
   ],
   "source": [
    "plt.figure(figsize=(10,8))\n",
    "plt.plot(range(1, 11), adj_r2)\n",
    "plt.title(\"Adjusted R^2\");"
   ]
  },
  {
   "cell_type": "code",
   "execution_count": 24,
   "metadata": {},
   "outputs": [
    {
     "data": {
      "text/plain": [
       "(4, 4, 6)"
      ]
     },
     "execution_count": 24,
     "metadata": {},
     "output_type": "execute_result"
    }
   ],
   "source": [
    "# all three agree on correct model! Not for me\n",
    "np.argmin(cp), np.argmin(bic), np.argmax(adj_r2)"
   ]
  },
  {
   "cell_type": "code",
   "execution_count": 25,
   "metadata": {},
   "outputs": [
    {
     "data": {
      "text/plain": [
       "[<matplotlib.lines.Line2D at 0x1787b621648>]"
      ]
     },
     "execution_count": 25,
     "metadata": {},
     "output_type": "execute_result"
    },
    {
     "data": {
      "image/png": "[encoded data removed]",
      "text/plain": [
       "<Figure size 432x288 with 1 Axes>"
      ]
     },
     "metadata": {
      "needs_background": "light"
     },
     "output_type": "display_data"
    }
   ],
   "source": [
    "plt.plot(cp)"
   ]
  },
  {
   "cell_type": "code",
   "execution_count": 26,
   "metadata": {
    "scrolled": true
   },
   "outputs": [
    {
     "data": {
      "text/plain": [
       "[35.31115960611486,\n",
       " 1.8401256025821702,\n",
       " 1.0909878442031342,\n",
       " 1.0754154634310706,\n",
       " 1.037885160550381,\n",
       " 1.0435213719182728,\n",
       " 1.051381656670727,\n",
       " 1.0695974495273677,\n",
       " 1.0872920687012724,\n",
       " 1.105685230310438]"
      ]
     },
     "execution_count": 26,
     "metadata": {},
     "output_type": "execute_result"
    }
   ],
   "source": [
    "cp"
   ]
  },
  {
   "cell_type": "code",
   "execution_count": 27,
   "metadata": {},
   "outputs": [],
   "source": [
    "# forward selection. Looks at Cp each step and stops if it can't beat old best\n",
    "current_vars = []\n",
    "best_cp = 10000000\n",
    "prev_cp = best_cp\n",
    "best_cp = 1000000\n",
    "while best_cp < prev_cp:\n",
    "    prev_cp = best_cp\n",
    "    old_vars = current_vars.copy()\n",
    "    for i in range(10):\n",
    "        if i in current_vars:\n",
    "            continue\n",
    "        X = df.iloc[:, old_vars + [i]]\n",
    "        lr.fit(X, y)\n",
    "        rss = np.sum((lr.predict(X) - y) ** 2)\n",
    "        d = len(old_vars) + 1\n",
    "        cur_cp = 1/n * (rss + 2 * d * sigma2)\n",
    "        if cur_cp < best_cp:\n",
    "            current_vars = old_vars + [i]\n",
    "            best_cp = cur_cp"
   ]
  },
  {
   "cell_type": "code",
   "execution_count": 28,
   "metadata": {},
   "outputs": [
    {
     "data": {
      "text/plain": [
       "[2, 1, 0, 3, 5]"
      ]
     },
     "execution_count": 28,
     "metadata": {},
     "output_type": "execute_result"
    }
   ],
   "source": [
    "current_vars"
   ]
  },
  {
   "cell_type": "code",
   "execution_count": 29,
   "metadata": {},
   "outputs": [
    {
     "data": {
      "text/plain": [
       "1.037885160550381"
      ]
     },
     "execution_count": 29,
     "metadata": {},
     "output_type": "execute_result"
    }
   ],
   "source": [
    "best_cp"
   ]
  },
  {
   "cell_type": "code",
   "execution_count": 30,
   "metadata": {},
   "outputs": [
    {
     "data": {
      "text/plain": [
       "[2, 1, 0, 3, 5]"
      ]
     },
     "execution_count": 30,
     "metadata": {},
     "output_type": "execute_result"
    }
   ],
   "source": [
    "old_vars"
   ]
  },
  {
   "cell_type": "code",
   "execution_count": 31,
   "metadata": {},
   "outputs": [],
   "source": [
    "# backward selection. Looks at Cp each step and stops if it can't beat old best\n",
    "current_vars = list(range(10))\n",
    "best_cp = 10000000\n",
    "prev_cp = best_cp\n",
    "best_cp = 1000000\n",
    "while best_cp < prev_cp:\n",
    "    prev_cp = best_cp\n",
    "    old_vars = current_vars.copy()\n",
    "    for i in range(10):\n",
    "        if i not in current_vars:\n",
    "            continue\n",
    "        old_vars2 = old_vars.copy()\n",
    "        old_vars2.remove(i)\n",
    "        X = df.iloc[:, old_vars2]\n",
    "        lr.fit(X, y)\n",
    "        rss = np.sum((lr.predict(X) - y) ** 2)\n",
    "        d = len(old_vars) + 1\n",
    "        cur_cp = 1/n * (rss + 2 * d * sigma2)\n",
    "        if cur_cp < best_cp:\n",
    "            current_vars = old_vars2.copy()\n",
    "            best_cp = cur_cp"
   ]
  },
  {
   "cell_type": "code",
   "execution_count": 32,
   "metadata": {},
   "outputs": [
    {
     "data": {
      "text/plain": [
       "[0, 1, 2, 3, 9]"
      ]
     },
     "execution_count": 32,
     "metadata": {},
     "output_type": "execute_result"
    }
   ],
   "source": [
    "current_vars # same answer for backward selection"
   ]
  },
  {
   "cell_type": "code",
   "execution_count": 33,
   "metadata": {},
   "outputs": [],
   "source": [
    "X = df.iloc[:, :-1]"
   ]
  },
  {
   "cell_type": "code",
   "execution_count": 34,
   "metadata": {},
   "outputs": [],
   "source": [
    "from sklearn.model_selection import train_test_split\n",
    "from sklearn.linear_model import Lasso"
   ]
  },
  {
   "cell_type": "code",
   "execution_count": 35,
   "metadata": {},
   "outputs": [],
   "source": [
    "X_stand = X / X.std()"
   ]
  },
  {
   "cell_type": "code",
   "execution_count": 36,
   "metadata": {},
   "outputs": [],
   "source": [
    "X_train, X_test, y_train, y_test = train_test_split(X_stand, y)"
   ]
  },
  {
   "cell_type": "code",
   "execution_count": 37,
   "metadata": {},
   "outputs": [],
   "source": [
    "alphas = np.linspace(.0001, .1, 1000)\n",
    "errors = []\n",
    "for alpha in alphas:\n",
    "    ls = Lasso(alpha, max_iter=100000, tol=.0001)\n",
    "    ls.fit(X_train, y_train)\n",
    "    errors.append(np.mean((ls.predict(X_test) - y_test) ** 2))"
   ]
  },
  {
   "cell_type": "code",
   "execution_count": 38,
   "metadata": {},
   "outputs": [
    {
     "data": {
      "text/plain": [
       "[<matplotlib.lines.Line2D at 0x1780105e508>]"
      ]
     },
     "execution_count": 38,
     "metadata": {},
     "output_type": "execute_result"
    },
    {
     "data": {
      "image/png": "[encoded data removed]",
      "text/plain": [
       "<Figure size 432x288 with 1 Axes>"
      ]
     },
     "metadata": {
      "needs_background": "light"
     },
     "output_type": "display_data"
    }
   ],
   "source": [
    "plt.plot(alphas, errors)"
   ]
  },
  {
   "cell_type": "code",
   "execution_count": 39,
   "metadata": {},
   "outputs": [
    {
     "data": {
      "text/plain": [
       "53"
      ]
     },
     "execution_count": 39,
     "metadata": {},
     "output_type": "execute_result"
    }
   ],
   "source": [
    "np.argmin(errors)"
   ]
  },
  {
   "cell_type": "code",
   "execution_count": 40,
   "metadata": {
    "scrolled": true
   },
   "outputs": [
    {
     "data": {
      "text/plain": [
       "0.0054"
      ]
     },
     "execution_count": 40,
     "metadata": {},
     "output_type": "execute_result"
    }
   ],
   "source": [
    "alphas[np.argmin(errors)]"
   ]
  },
  {
   "cell_type": "code",
   "execution_count": 41,
   "metadata": {
    "scrolled": true
   },
   "outputs": [
    {
     "data": {
      "text/plain": [
       "Lasso(alpha=0.0054, max_iter=100000)"
      ]
     },
     "execution_count": 41,
     "metadata": {},
     "output_type": "execute_result"
    }
   ],
   "source": [
    "ls = Lasso(alpha=.0054, max_iter=100000, tol=.0001)\n",
    "ls.fit(X_stand, y)"
   ]
  },
  {
   "cell_type": "code",
   "execution_count": 42,
   "metadata": {},
   "outputs": [
    {
     "data": {
      "text/plain": [
       "(-5.382185409510796,\n",
       " array([ 1.74686416,  6.83162707, 10.46153428, -1.64732298,  0.33845943,\n",
       "        -0.        ,  0.        ,  0.        , -0.32803004,  0.68527383]))"
      ]
     },
     "execution_count": 42,
     "metadata": {},
     "output_type": "execute_result"
    }
   ],
   "source": [
    "ls.intercept_, ls.coef_"
   ]
  },
  {
   "cell_type": "code",
   "execution_count": 43,
   "metadata": {},
   "outputs": [
    {
     "data": {
      "text/plain": [
       "(-5, 1, 4, 3)"
      ]
     },
     "execution_count": 43,
     "metadata": {},
     "output_type": "execute_result"
    }
   ],
   "source": [
    "# beta 3 was very far off\n",
    "beta0, beta1, beta2, beta3"
   ]
  },
  {
   "cell_type": "code",
   "execution_count": 44,
   "metadata": {},
   "outputs": [],
   "source": [
    "beta0_7 = 3\n",
    "beta7 = -1"
   ]
  },
  {
   "cell_type": "code",
   "execution_count": 45,
   "metadata": {},
   "outputs": [],
   "source": [
    "y_7 = beta0_7 + beta7 * x ** 7 + err"
   ]
  },
  {
   "cell_type": "code",
   "execution_count": 50,
   "metadata": {},
   "outputs": [],
   "source": [
    "df_7 = pd.DataFrame({'x1': x, 'x2': x ** 2, 'x3': x**3, 'x4': x**4,'x5': x**5,\n",
    "                   'x6': x**6,'x7': x**7,'x8': x**8,'x9': x**9,'x10': x**10,\n",
    "                   'y':y_7})"
   ]
  },
  {
   "cell_type": "code",
   "execution_count": 51,
   "metadata": {},
   "outputs": [
    {
     "data": {
      "text/plain": [
       "<matplotlib.collections.PathCollection at 0x1780126bac8>"
      ]
     },
     "execution_count": 51,
     "metadata": {},
     "output_type": "execute_result"
    },
    {
     "data": {
      "image/png": "[encoded data removed]",
      "text/plain": [
       "<Figure size 432x288 with 1 Axes>"
      ]
     },
     "metadata": {
      "needs_background": "light"
     },
     "output_type": "display_data"
    }
   ],
   "source": [
    "plt.scatter(X['x7'], y_7)"
   ]
  },
  {
   "cell_type": "code",
   "execution_count": 52,
   "metadata": {},
   "outputs": [],
   "source": [
    "# best subset selection\n",
    "X = df_7.iloc[:, :-1]\n",
    "n = len(X)\n",
    "tss = np.sum((y_7 - y_7.mean()) ** 2)\n",
    "lr.fit(X,  y_7)\n",
    "sigma2 = np.sum((lr.predict(X) - y_7) ** 2) / len(X)\n",
    "cp = []\n",
    "bic = []\n",
    "adj_r2 = []\n",
    "for i in range(1, 11):\n",
    "    current_cp = []\n",
    "    current_bic = []\n",
    "    current_adj_r2 = []\n",
    "    for comb in combinations(range(10), i):\n",
    "        X = df_7.iloc[:, list(comb)]\n",
    "        lr.fit(X, y_7)\n",
    "        rss = np.sum((lr.predict(X) - y_7) ** 2)\n",
    "        \n",
    "        d = len(comb)\n",
    "        current_cp.append(1/n * (rss + 2 * d * sigma2))\n",
    "        current_bic.append(1/n * (rss + np.log(n) * d * sigma2))\n",
    "        current_adj_r2.append(1 - rss / (n - d - 1) * (n - 1) / tss)\n",
    "        \n",
    "    cp.append(min(current_cp))\n",
    "    bic.append(min(current_bic))\n",
    "    adj_r2.append(max(current_adj_r2))"
   ]
  },
  {
   "cell_type": "code",
   "execution_count": 53,
   "metadata": {},
   "outputs": [
    {
     "data": {
      "image/png": "[encoded data removed]",
      "text/plain": [
       "<Figure size 432x288 with 1 Axes>"
      ]
     },
     "metadata": {
      "needs_background": "light"
     },
     "output_type": "display_data"
    }
   ],
   "source": [
    "# best model is with one predictor\n",
    "plt.plot(range(10), cp)\n",
    "bic.append(min(current_bic))"
   ]
  },
  {
   "cell_type": "code",
   "execution_count": 54,
   "metadata": {},
   "outputs": [],
   "source": [
    "# lasso\n",
    "X = df_7.iloc[:, :-1]\n",
    "X_stand = X / X.std()\n",
    "X_train, X_test, y_train, y_test = train_test_split(X_stand, y_7)"
   ]
  },
  {
   "cell_type": "code",
   "execution_count": 55,
   "metadata": {},
   "outputs": [],
   "source": [
    "alphas = np.linspace(.001, 50, 100)\n",
    "errors = []\n",
    "ls = Lasso(alpha, max_iter=1000000000, tol=.000001)\n",
    "\n",
    "for alpha in alphas:\n",
    "    ls = Lasso(alpha=alpha)\n",
    "    ls.fit(X_train, y_train)\n",
    "    errors.append(np.mean((ls.predict(X_test) - y_test) ** 2))"
   ]
  },
  {
   "cell_type": "code",
   "execution_count": 56,
   "metadata": {},
   "outputs": [
    {
     "data": {
      "text/plain": [
       "[<matplotlib.lines.Line2D at 0x1780132ae08>]"
      ]
     },
     "execution_count": 56,
     "metadata": {},
     "output_type": "execute_result"
    },
    {
     "data": {
      "image/png": "[encoded data removed]",
      "text/plain": [
       "<Figure size 432x288 with 1 Axes>"
      ]
     },
     "metadata": {
      "needs_background": "light"
     },
     "output_type": "display_data"
    }
   ],
   "source": [
    "plt.plot(alphas, errors)"
   ]
  },
  {
   "cell_type": "code",
   "execution_count": 57,
   "metadata": {},
   "outputs": [
    {
     "data": {
      "text/plain": [
       "0.001"
      ]
     },
     "execution_count": 57,
     "metadata": {},
     "output_type": "execute_result"
    }
   ],
   "source": [
    "best_alpha = alphas[np.argmin(errors)]\n",
    "best_alpha"
   ]
  },
  {
   "cell_type": "code",
   "execution_count": 58,
   "metadata": {},
   "outputs": [
    {
     "data": {
      "text/plain": [
       "Lasso(alpha=0.001, max_iter=100000, tol=1e-06)"
      ]
     },
     "execution_count": 58,
     "metadata": {},
     "output_type": "execute_result"
    }
   ],
   "source": [
    "ls = Lasso(alpha=best_alpha, max_iter=100000, tol=.000001)\n",
    "ls.fit(X_stand, y_7)"
   ]
  },
  {
   "cell_type": "code",
   "execution_count": 59,
   "metadata": {},
   "outputs": [
    {
     "data": {
      "text/plain": [
       "array([  0.83175276,   1.32280723,  -1.12896681,  -2.29898947,\n",
       "        -0.        ,  -0.        , -94.94616012,   0.        ,\n",
       "        -2.5252067 ,   1.09641555])"
      ]
     },
     "execution_count": 59,
     "metadata": {},
     "output_type": "execute_result"
    }
   ],
   "source": [
    "# coefficient doesn't resemble model at all. but these have been scaled by\n",
    "# their  std.  must divide by std\n",
    "ls.coef_"
   ]
  },
  {
   "cell_type": "code",
   "execution_count": 60,
   "metadata": {},
   "outputs": [
    {
     "data": {
      "text/plain": [
       "x1     0.802183\n",
       "x2     0.902292\n",
       "x3    -0.305697\n",
       "x4    -0.313636\n",
       "x5    -0.000000\n",
       "x6    -0.000000\n",
       "x7    -0.970903\n",
       "x8     0.000000\n",
       "x9    -0.004528\n",
       "x10    0.000837\n",
       "dtype: float64"
      ]
     },
     "execution_count": 60,
     "metadata": {},
     "output_type": "execute_result"
    }
   ],
   "source": [
    "# that's better - very close to actual value of -1\n",
    "ls.coef_ / X.std()"
   ]
  },
  {
   "cell_type": "code",
   "execution_count": 61,
   "metadata": {},
   "outputs": [
    {
     "data": {
      "text/plain": [
       "2.5545525523245516"
      ]
     },
     "execution_count": 61,
     "metadata": {},
     "output_type": "execute_result"
    }
   ],
   "source": [
    "# also look at intercept\n",
    "ls.intercept_"
   ]
  },
  {
   "cell_type": "markdown",
   "metadata": {},
   "source": [
    "# 9"
   ]
  },
  {
   "cell_type": "code",
   "execution_count": 62,
   "metadata": {},
   "outputs": [
    {
     "name": "stderr",
     "output_type": "stream",
     "text": [
      "'ls' is not recognized as an internal or external command,\n",
      "operable program or batch file.\n"
     ]
    }
   ],
   "source": [
    "!ls"
   ]
  },
  {
   "cell_type": "code",
   "execution_count": 63,
   "metadata": {},
   "outputs": [],
   "source": [
    "college = pd.read_csv('data/college.csv')"
   ]
  },
  {
   "cell_type": "code",
   "execution_count": 64,
   "metadata": {},
   "outputs": [
    {
     "data": {
      "text/plain": [
       "Yes    565\n",
       "No     212\n",
       "Name: Private, dtype: int64"
      ]
     },
     "execution_count": 64,
     "metadata": {},
     "output_type": "execute_result"
    }
   ],
   "source": [
    "college['Private'].value_counts()"
   ]
  },
  {
   "cell_type": "code",
   "execution_count": 65,
   "metadata": {},
   "outputs": [],
   "source": [
    "college['private_yes'] = (college['Private'] == 'Yes') * 1"
   ]
  },
  {
   "cell_type": "code",
   "execution_count": 66,
   "metadata": {},
   "outputs": [],
   "source": [
    "X = college.iloc[:, 3:]"
   ]
  },
  {
   "cell_type": "code",
   "execution_count": 67,
   "metadata": {},
   "outputs": [],
   "source": [
    "y = college['Apps']"
   ]
  },
  {
   "cell_type": "code",
   "execution_count": 68,
   "metadata": {},
   "outputs": [],
   "source": [
    "X_train, X_test, y_train, y_test = train_test_split(X, y)"
   ]
  },
  {
   "cell_type": "code",
   "execution_count": 69,
   "metadata": {},
   "outputs": [
    {
     "data": {
      "text/plain": [
       "LinearRegression()"
      ]
     },
     "execution_count": 69,
     "metadata": {},
     "output_type": "execute_result"
    }
   ],
   "source": [
    "lr = LinearRegression()\n",
    "lr.fit(X_train, y_train)"
   ]
  },
  {
   "cell_type": "code",
   "execution_count": 70,
   "metadata": {},
   "outputs": [
    {
     "data": {
      "text/plain": [
       "2175648.575518452"
      ]
     },
     "execution_count": 70,
     "metadata": {},
     "output_type": "execute_result"
    }
   ],
   "source": [
    "# Error\n",
    "np.mean((lr.predict(X_test) - y_test) ** 2)"
   ]
  },
  {
   "cell_type": "code",
   "execution_count": 71,
   "metadata": {},
   "outputs": [],
   "source": [
    "from sklearn.linear_model import RidgeCV"
   ]
  },
  {
   "cell_type": "code",
   "execution_count": 72,
   "metadata": {},
   "outputs": [],
   "source": [
    "X_std = X.iloc[:, :-1].std()"
   ]
  },
  {
   "cell_type": "code",
   "execution_count": 73,
   "metadata": {},
   "outputs": [],
   "source": [
    "X_std['private_yes'] = 1"
   ]
  },
  {
   "cell_type": "code",
   "execution_count": 74,
   "metadata": {},
   "outputs": [
    {
     "data": {
      "text/plain": [
       "Enroll          929.176190\n",
       "Top10perc        17.640364\n",
       "Top25perc        19.804778\n",
       "F.Undergrad    4850.420531\n",
       "P.Undergrad    1522.431887\n",
       "Outstate       4023.016484\n",
       "Room.Board     1096.696416\n",
       "Books           165.105360\n",
       "Personal        677.071454\n",
       "PhD              16.328155\n",
       "Terminal         14.722359\n",
       "S.F.Ratio         3.958349\n",
       "perc.alumni      12.391801\n",
       "Expend         5221.768440\n",
       "Grad.Rate        17.177710\n",
       "private_yes       1.000000\n",
       "dtype: float64"
      ]
     },
     "execution_count": 74,
     "metadata": {},
     "output_type": "execute_result"
    }
   ],
   "source": [
    "X_std"
   ]
  },
  {
   "cell_type": "code",
   "execution_count": 75,
   "metadata": {},
   "outputs": [
    {
     "data": {
      "text/plain": [
       "RidgeCV(alphas=array([1.00000000e-02, 1.10090090e-01, 2.10180180e-01, 3.10270270e-01,\n",
       "       4.10360360e-01, 5.10450450e-01, 6.10540541e-01, 7.10630631e-01,\n",
       "       8.10720721e-01, 9.10810811e-01, 1.01090090e+00, 1.11099099e+00,\n",
       "       1.21108108e+00, 1.31117117e+00, 1.41126126e+00, 1.51135135e+00,\n",
       "       1.61144144e+00, 1.71153153e+00, 1.81162162e+00, 1.91171171e+00,\n",
       "       2.01180180e+00, 2.11189189e+0...\n",
       "       9.76979279e+01, 9.77980180e+01, 9.78981081e+01, 9.79981982e+01,\n",
       "       9.80982883e+01, 9.81983784e+01, 9.82984685e+01, 9.83985586e+01,\n",
       "       9.84986486e+01, 9.85987387e+01, 9.86988288e+01, 9.87989189e+01,\n",
       "       9.88990090e+01, 9.89990991e+01, 9.90991892e+01, 9.91992793e+01,\n",
       "       9.92993694e+01, 9.93994595e+01, 9.94995495e+01, 9.95996396e+01,\n",
       "       9.96997297e+01, 9.97998198e+01, 9.98999099e+01, 1.00000000e+02]),\n",
       "        cv=10)"
      ]
     },
     "execution_count": 75,
     "metadata": {},
     "output_type": "execute_result"
    }
   ],
   "source": [
    "rcv = RidgeCV(alphas=np.linspace(.01, 100, 1000), cv=10)\n",
    "rcv.fit(X / X_std, y)"
   ]
  },
  {
   "cell_type": "code",
   "execution_count": null,
   "metadata": {},
   "outputs": [],
   "source": []
  }
 ],
 "metadata": {
  "anaconda-cloud": {},
  "kernelspec": {
   "display_name": "Python 3",
   "language": "python",
   "name": "python3"
  },
  "language_info": {
   "codemirror_mode": {
    "name": "ipython",
    "version": 3
   },
   "file_extension": ".py",
   "mimetype": "text/x-python",
   "name": "python",
   "nbconvert_exporter": "python",
   "pygments_lexer": "ipython3",
   "version": "3.7.7"
  }
 },
 "nbformat": 4,
 "nbformat_minor": 1
}
